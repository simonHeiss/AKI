{
 "cells": [
  {
   "cell_type": "code",
   "execution_count": 33,
   "metadata": {},
   "outputs": [],
   "source": [
    "#1. Pandas importieren.\n",
    "import pandas as pd\n",
    "import matplotlib.pyplot as plt"
   ]
  },
  {
   "cell_type": "code",
   "execution_count": 6,
   "metadata": {},
   "outputs": [
    {
     "name": "stdout",
     "output_type": "stream",
     "text": [
      "      alter          beruf familienstand bildungsstand default  saldo  \\\n",
      "0        30     unemployed   verheiratet       primaer      no   1787   \n",
      "1        33       services   verheiratet     sekundaer      no   4789   \n",
      "2        35     management         ledig      tertiaer      no   1350   \n",
      "3        30     management   verheiratet      tertiaer      no   1476   \n",
      "4        59    blue-collar   verheiratet     sekundaer      no      0   \n",
      "...     ...            ...           ...           ...     ...    ...   \n",
      "4516     33       services   verheiratet     sekundaer      no   -333   \n",
      "4517     57  self-employed   verheiratet      tertiaer     yes  -3313   \n",
      "4518     57     technician   verheiratet     sekundaer      no    295   \n",
      "4519     28    blue-collar   verheiratet     sekundaer      no   1137   \n",
      "4520     44   entrepreneur         ledig      tertiaer      no   1136   \n",
      "\n",
      "     immobilien gehalt kontaktart  tag monat  dauer  kampagne  btage  \\\n",
      "0            no     no   cellular   19   oct     79         1     -1   \n",
      "1           yes    yes   cellular   11   may    220         1    339   \n",
      "2           yes     no   cellular   16   apr    185         1    330   \n",
      "3           yes    yes    unknown    3   jun    199         4     -1   \n",
      "4           yes     no    unknown    5   may    226         1     -1   \n",
      "...         ...    ...        ...  ...   ...    ...       ...    ...   \n",
      "4516        yes     no   cellular   30   jul    329         5     -1   \n",
      "4517        yes    yes    unknown    9   may    153         1     -1   \n",
      "4518         no     no   cellular   19   aug    151        11     -1   \n",
      "4519         no     no   cellular    6   feb    129         4    211   \n",
      "4520        yes    yes   cellular    3   apr    345         2    249   \n",
      "\n",
      "      vorzugehorigkeit bausgabe   y  \n",
      "0                    0  unknown  no  \n",
      "1                    4  failure  no  \n",
      "2                    1  failure  no  \n",
      "3                    0  unknown  no  \n",
      "4                    0  unknown  no  \n",
      "...                ...      ...  ..  \n",
      "4516                 0  unknown  no  \n",
      "4517                 0  unknown  no  \n",
      "4518                 0  unknown  no  \n",
      "4519                 3    other  no  \n",
      "4520                 7    other  no  \n",
      "\n",
      "[4521 rows x 17 columns]\n"
     ]
    }
   ],
   "source": [
    "#2. Die CSV Datei „Banken.csv“ herunterladen (Moodle) und einlesen.\n",
    "banks = pd.read_csv(\"banken.csv\")\n",
    "print(banks)"
   ]
  },
  {
   "cell_type": "code",
   "execution_count": 5,
   "metadata": {},
   "outputs": [
    {
     "name": "stdout",
     "output_type": "stream",
     "text": [
      "   alter        beruf familienstand bildungsstand default  saldo immobilien  \\\n",
      "0     30   unemployed   verheiratet       primaer      no   1787         no   \n",
      "1     33     services   verheiratet     sekundaer      no   4789        yes   \n",
      "2     35   management         ledig      tertiaer      no   1350        yes   \n",
      "3     30   management   verheiratet      tertiaer      no   1476        yes   \n",
      "4     59  blue-collar   verheiratet     sekundaer      no      0        yes   \n",
      "\n",
      "  gehalt kontaktart  tag monat  dauer  kampagne  btage  vorzugehorigkeit  \\\n",
      "0     no   cellular   19   oct     79         1     -1                 0   \n",
      "1    yes   cellular   11   may    220         1    339                 4   \n",
      "2     no   cellular   16   apr    185         1    330                 1   \n",
      "3    yes    unknown    3   jun    199         4     -1                 0   \n",
      "4     no    unknown    5   may    226         1     -1                 0   \n",
      "\n",
      "  bausgabe   y  \n",
      "0  unknown  no  \n",
      "1  failure  no  \n",
      "2  failure  no  \n",
      "3  unknown  no  \n",
      "4  unknown  no  \n"
     ]
    }
   ],
   "source": [
    "#3. Die ersten 5 Rows anzeigen lassen\n",
    "headFive = banks.head(5)\n",
    "print(headFive)"
   ]
  },
  {
   "cell_type": "code",
   "execution_count": 9,
   "metadata": {},
   "outputs": [
    {
     "data": {
      "text/plain": [
       "41.17009511170095"
      ]
     },
     "execution_count": 9,
     "metadata": {},
     "output_type": "execute_result"
    }
   ],
   "source": [
    "#4. Durchschnittsalter (mean) aller Bankkunden ermitteln.\n",
    "banks[\"alter\"].mean()"
   ]
  },
  {
   "cell_type": "code",
   "execution_count": 17,
   "metadata": {},
   "outputs": [
    {
     "name": "stdout",
     "output_type": "stream",
     "text": [
      "503     ledig\n",
      "1900    ledig\n",
      "2780    ledig\n",
      "3233    ledig\n",
      "Name: familienstand, dtype: object\n"
     ]
    }
   ],
   "source": [
    "#5. Wie ist der Familienstand der jüngsten Person im Datensatz?\n",
    "print(banks[banks.alter == banks.alter.min()].familienstand)\n"
   ]
  },
  {
   "cell_type": "code",
   "execution_count": 26,
   "metadata": {},
   "outputs": [
    {
     "name": "stdout",
     "output_type": "stream",
     "text": [
      "Amount of jop categories: 12\n",
      "['unemployed' 'services' 'management' 'blue-collar' 'self-employed'\n",
      " 'technician' 'entrepreneur' 'admin.' 'student' 'housemaid' 'retired'\n",
      " 'unknown']\n"
     ]
    }
   ],
   "source": [
    "#6. Wie viele einzigartige Jobkategorien gibt es im Datensatz?\n",
    "print(\"Amount of jop categories: \" + str(len(banks[\"beruf\"].unique()))) #Wieviele\n",
    "print(banks[\"beruf\"].unique())#Welche\n"
   ]
  },
  {
   "cell_type": "code",
   "execution_count": 106,
   "metadata": {},
   "outputs": [
    {
     "name": "stdout",
     "output_type": "stream",
     "text": [
      "            beruf  count\n",
      "0          admin.    478\n",
      "1     blue-collar    946\n",
      "2    entrepreneur    168\n",
      "3       housemaid    112\n",
      "4      management    969\n",
      "5         retired    230\n",
      "6   self-employed    183\n",
      "7        services    417\n",
      "8         student     84\n",
      "9      technician    768\n",
      "10     unemployed    128\n",
      "11        unknown     38\n"
     ]
    },
    {
     "data": {
      "image/png": "[encoded data removed]",
      "text/plain": [
       "<Figure size 1500x480 with 1 Axes>"
      ]
     },
     "metadata": {},
     "output_type": "display_data"
    }
   ],
   "source": [
    "#7. Wie viele Personen gibt es pro Berufsgruppe?\n",
    "data = banks.groupby(\"beruf\")[\"beruf\"].count().reset_index(name=\"count\")\n",
    "print(data)\n",
    "plt.figure().set_figwidth(15)\n",
    "plt.bar(data[\"beruf\"], data[\"count\"])\n",
    "plt.show()"
   ]
  },
  {
   "cell_type": "code",
   "execution_count": 80,
   "metadata": {},
   "outputs": [
    {
     "name": "stdout",
     "output_type": "stream",
     "text": [
      "4516     no\n",
      "4517    yes\n",
      "4518     no\n",
      "4519     no\n",
      "4520     no\n",
      "Name: default, dtype: object\n",
      "4516    0\n",
      "4517    1\n",
      "4518    0\n",
      "4519    0\n",
      "4520    0\n",
      "Name: defaultcode, dtype: int64\n"
     ]
    }
   ],
   "source": [
    "#8. Es gibt eine Spalte mit der Bezeichnung „default\". Verwenden Sie die .map() -funktion von Pandas, \n",
    "#um eine neue Spalte mit dem Namen „defaultcode\" zu erstellen, die eine 0 enthält, \n",
    "#falls es keinen Standard gab, oder eine 1, wenn es einen Standard gab.\n",
    "\n",
    "banks[\"defaultcode\"] = banks[\"default\"].map(lambda x: 1 if x == \"yes\" else 0)\n",
    "print(banks[\"default\"].tail(5))\n",
    "print(banks[\"defaultcode\"].tail(5))"
   ]
  },
  {
   "cell_type": "code",
   "execution_count": 129,
   "metadata": {},
   "outputs": [
    {
     "data": {
      "text/html": [
       "<div>\n",
       "<style scoped>\n",
       "    .dataframe tbody tr th:only-of-type {\n",
       "        vertical-align: middle;\n",
       "    }\n",
       "\n",
       "    .dataframe tbody tr th {\n",
       "        vertical-align: top;\n",
       "    }\n",
       "\n",
       "    .dataframe thead th {\n",
       "        text-align: right;\n",
       "    }\n",
       "</style>\n",
       "<table border=\"1\" class=\"dataframe\">\n",
       "  <thead>\n",
       "    <tr style=\"text-align: right;\">\n",
       "      <th></th>\n",
       "      <th>bildungsstand</th>\n",
       "      <th>count</th>\n",
       "    </tr>\n",
       "  </thead>\n",
       "  <tbody>\n",
       "    <tr>\n",
       "      <th>1</th>\n",
       "      <td>sekundaer</td>\n",
       "      <td>68</td>\n",
       "    </tr>\n",
       "  </tbody>\n",
       "</table>\n",
       "</div>"
      ],
      "text/plain": [
       "  bildungsstand  count\n",
       "1     sekundaer     68"
      ]
     },
     "execution_count": 129,
     "metadata": {},
     "output_type": "execute_result"
    }
   ],
   "source": [
    "#9. Was ist das häufigste Bildungsniveau für arbeitslose Menschen (laut Datensatz)?\n",
    "GroupedAndCounted = banks[banks[\"beruf\"] == \"unemployed\"].groupby(\"bildungsstand\")[\"bildungsstand\"].count().reset_index(name=\"count\")\n",
    "GroupedAndCounted[GroupedAndCounted[\"count\"] == GroupedAndCounted[\"count\"].max()]\n"
   ]
  },
  {
   "cell_type": "code",
   "execution_count": 153,
   "metadata": {},
   "outputs": [
    {
     "data": {
      "image/png": "[encoded data removed]",
      "text/plain": [
       "<Figure size 640x480 with 1 Axes>"
      ]
     },
     "metadata": {},
     "output_type": "display_data"
    },
    {
     "name": "stdout",
     "output_type": "stream",
     "text": [
      "average age of unemployed people: 40.90625\n"
     ]
    }
   ],
   "source": [
    "#10. Was ist das Durchschnittsalter für Arbeitslosigkeit im Datensatz?\n",
    "unemployed = banks[banks[\"beruf\"] == \"unemployed\"][\"alter\"]\n",
    "unemployedMean = banks[banks[\"beruf\"] == \"unemployed\"][\"alter\"].mean()\n",
    "plt.scatter(unemployed.index, unemployed)\n",
    "\n",
    "plt.axhline(y=unemployedMean, color=\"red\")\n",
    "plt.show()\n",
    "print(\"average age of unemployed people:\",unemployedMean)"
   ]
  }
 ],
 "metadata": {
  "kernelspec": {
   "display_name": "angewandteKI",
   "language": "python",
   "name": "python3"
  },
  "language_info": {
   "codemirror_mode": {
    "name": "ipython",
    "version": 3
   },
   "file_extension": ".py",
   "mimetype": "text/x-python",
   "name": "python",
   "nbconvert_exporter": "python",
   "pygments_lexer": "ipython3",
   "version": "3.10.11"
  },
  "orig_nbformat": 4,
  "vscode": {
   "interpreter": {
    "hash": "e406d3fd6d7844caaae0ef3d85de2976a6b000d5de8a68e36c3938cd40d8e139"
   }
  }
 },
 "nbformat": 4,
 "nbformat_minor": 2
}
