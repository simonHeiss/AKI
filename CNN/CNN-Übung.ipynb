{
 "cells": [
  {
   "cell_type": "markdown",
   "metadata": {},
   "source": [
    "# CNN Übung\n",
    "Für diese Übung werden Sie mit dem folgenden Datensatz arbeiten: <a href='https://www.kaggle.com/zalando-research/fashionmnist'>Fashion-MNIST</a>, welches hier abgerufen werden kann: <a href='https://pytorch.org/docs/stable/torchvision/index.html'><tt><strong>torchvision</strong></tt></a>. Ähnlich dem MNIST Datensatz, haben wir einen training set von 60,000 examples und einen test set von 10,000 examples. Jedes example ist ein 28x28 grayscale Bild, welches 1 label von 10 Klassen besitzt:\n",
    "0. T-shirt/top\n",
    "1. Trouser\n",
    "2. Pullover\n",
    "3. Dress\n",
    "4. Coat\n",
    "5. Sandal\n",
    "6. Shirt\n",
    "7. Sneaker\n",
    "8. Bag\n",
    "9. Ankle boot\n"
   ]
  },
  {
   "cell_type": "code",
   "execution_count": null,
   "metadata": {},
   "outputs": [],
   "source": [
    "# Folgendes müssen Sie zuerst ausführen um alle Voraussetzungen zu haben!!\n",
    "\n",
    "import torch\n",
    "import torch.nn as nn\n",
    "import torch.nn.functional as F\n",
    "from torch.utils.data import DataLoader\n",
    "from torchvision import datasets, transforms\n",
    "from torchvision.utils import make_grid\n",
    "\n",
    "import numpy as np\n",
    "import pandas as pd\n",
    "from sklearn.metrics import confusion_matrix\n",
    "import matplotlib.pyplot as plt\n",
    "%matplotlib inline\n",
    "\n",
    "transform = transforms.ToTensor()\n",
    "\n",
    "train_data = datasets.FashionMNIST(root='../Data', train=True, download=True, transform=transform)\n",
    "test_data = datasets.FashionMNIST(root='../Data', train=False, download=True, transform=transform)\n",
    "\n",
    "class_names = ['T-shirt','Trouser','Sweater','Dress','Coat','Sandal','Shirt','Sneaker','Bag','Boot']"
   ]
  },
  {
   "cell_type": "markdown",
   "metadata": {},
   "source": [
    "Aufgabe 1: Erstellen Sie die Data Loaders\n",
    "\n",
    "Sowohl train_loader als auch test_loader sollen Sie erstellen mit Batch Sizes = 10"
   ]
  },
  {
   "cell_type": "code",
   "execution_count": null,
   "metadata": {},
   "outputs": [],
   "source": [
    "# Code hier:"
   ]
  },
  {
   "cell_type": "markdown",
   "metadata": {},
   "source": [
    "Aufgabe 2: CNN Definieren\n",
    "\n",
    "Definineren Sie eine CNN mit 2 conv layers, 2 pooling layers und 2 fully connected layers. Sie können beliebig viele Neuronen nutzen. "
   ]
  },
  {
   "cell_type": "code",
   "execution_count": null,
   "metadata": {},
   "outputs": [],
   "source": [
    "# Code hier:\n",
    "\n",
    "class ConvolutionalNetwork(nn.Module):\n",
    "    def __init__(self):\n",
    "        super().__init__()\n",
    "        \n",
    "\n",
    "    def forward(self, X):\n",
    "         \n",
    "        return F.log_softmax(X, dim=1)\n",
    "    \n",
    "torch.manual_seed(101)\n",
    "model = ConvolutionalNetwork()"
   ]
  },
  {
   "cell_type": "markdown",
   "metadata": {},
   "source": [
    "Aufgabe 3: Parameter Anzahl\n",
    "\n",
    "Finden Sie heraus wie viele Parameter das CNN Modell beseitzt"
   ]
  },
  {
   "cell_type": "code",
   "execution_count": null,
   "metadata": {},
   "outputs": [],
   "source": [
    "# Code hier:\n"
   ]
  },
  {
   "cell_type": "markdown",
   "metadata": {},
   "source": [
    "Aufgabe 4: Loss Function & Optimizer Definieren\n",
    "\n",
    "Definieren Sie Loss Function & Optimizer. Wir haben Cross Entropy Loss und Adam (lr=0.001) genutzt, Sie können aber\n",
    "auch andere nutzen wenn Sie möchten. "
   ]
  },
  {
   "cell_type": "code",
   "execution_count": null,
   "metadata": {},
   "outputs": [],
   "source": [
    "# Code hier:\n"
   ]
  },
  {
   "cell_type": "markdown",
   "metadata": {},
   "source": [
    "Aufgabe 5: Modell Trainieren\n",
    "\n",
    "Vervollständigen Sie folgenden Code um das Modell zu trainieren:"
   ]
  },
  {
   "cell_type": "code",
   "execution_count": null,
   "metadata": {},
   "outputs": [],
   "source": [
    "epochs = 5\n",
    "\n",
    "for i in range(epochs):\n",
    "    for X_train, y_train in train_loader:\n",
    "\n",
    "        # Apply the model\n",
    "\n",
    "\n",
    "        # Update parameters\n",
    "\n",
    "\n",
    "    # OPTIONAL print statement\n",
    "    print(f'{i+1} of {epochs} epochs completed')"
   ]
  },
  {
   "cell_type": "markdown",
   "metadata": {},
   "source": [
    "Aufgabe 6: Modell Evaluieren\n",
    "\n",
    "Vervollständigen Sie folgenden Code um das Modell zu evaluieren:"
   ]
  },
  {
   "cell_type": "code",
   "execution_count": null,
   "metadata": {},
   "outputs": [],
   "source": [
    "model.eval()\n",
    "\n",
    "with torch.no_grad():\n",
    "    correct = 0\n",
    "    for X_test, y_test in test_loader:\n",
    "\n",
    "        \n",
    "print(f'Test accuracy: {correct.item()}/{len(test_data)} = {correct.item()*100/(len(test_data)):7.3f}%')"
   ]
  }
 ],
 "metadata": {
  "language_info": {
   "name": "python"
  },
  "orig_nbformat": 4
 },
 "nbformat": 4,
 "nbformat_minor": 2
}
