{
 "cells": [
  {
   "attachments": {},
   "cell_type": "markdown",
   "metadata": {},
   "source": [
    "<h2>Angewandte Künstliche Intelligenz (<b>Numpy</b>)</h2>\n",
    "\n",
    "<table>\n",
    "    <tr>\n",
    "        <th>Matrikelnummer</th>\n",
    "        <th>Name</th>\n",
    "    </tr>\n",
    "    <tr>\n",
    "        <td>762476</td>\n",
    "        <td>Simon Heiß</td>\n",
    "    </tr>\n",
    "</table>\n",
    "\n",
    "<h4>Aufgaben:</h4>"
   ]
  },
  {
   "cell_type": "code",
   "execution_count": 2,
   "metadata": {},
   "outputs": [],
   "source": [
    "#1. Numpy Importieren\n",
    "import numpy as np #1.  "
   ]
  },
  {
   "cell_type": "code",
   "execution_count": 2,
   "metadata": {},
   "outputs": [
    {
     "data": {
      "text/plain": [
       "array([0., 0., 0., 0., 0., 0., 0., 0., 0., 0.])"
      ]
     },
     "execution_count": 2,
     "metadata": {},
     "output_type": "execute_result"
    }
   ],
   "source": [
    "#2. Array aus 10 Nullen generieren\n",
    "zeroArr = np.zeros(10)\n",
    "zeroArr"
   ]
  },
  {
   "cell_type": "code",
   "execution_count": 3,
   "metadata": {},
   "outputs": [
    {
     "data": {
      "text/plain": [
       "array([1., 1., 1., 1., 1., 1., 1., 1., 1., 1.])"
      ]
     },
     "execution_count": 3,
     "metadata": {},
     "output_type": "execute_result"
    }
   ],
   "source": [
    "#3. Array aus 10 Einsen generieren\n",
    "onesArr = np.ones(10)\n",
    "onesArr"
   ]
  },
  {
   "cell_type": "code",
   "execution_count": 8,
   "metadata": {},
   "outputs": [
    {
     "name": "stdout",
     "output_type": "stream",
     "text": [
      "[5 5 5 5 5 5 5 5 5 5]\n",
      "[5 5 5 5 5 5 5 5 5 5]\n"
     ]
    },
    {
     "name": "stderr",
     "output_type": "stream",
     "text": [
      "<ipython-input-8-aeb0da0c290d>:10: DeprecationWarning: `np.int` is a deprecated alias for the builtin `int`. To silence this warning, use `int` by itself. Doing this will not modify any behavior and is safe. When replacing `np.int`, you may wish to use e.g. `np.int64` or `np.int32` to specify the precision. If you wish to review your current use, check the release note link for additional information.\n",
      "Deprecated in NumPy 1.20; for more details and guidance: https://numpy.org/devdocs/release/1.20.0-notes.html#deprecations\n",
      "  dtype=np.int\n"
     ]
    }
   ],
   "source": [
    "#4. Array aus 10 Fünfer generieren\n",
    "a = np.arange(10, dtype=int)\n",
    "fivesArr = np.full_like(a, 5)\n",
    "print(fivesArr)\n",
    "\n",
    "#Alternativ \n",
    "fives2Arr = np.full(\n",
    "  shape=10,\n",
    "  fill_value=5,\n",
    "  dtype=np.int\n",
    ")\n",
    "print(fives2Arr)"
   ]
  },
  {
   "cell_type": "code",
   "execution_count": 19,
   "metadata": {},
   "outputs": [
    {
     "name": "stdout",
     "output_type": "stream",
     "text": [
      "[10 11 12 13 14 15 16 17 18 19 20 21 22 23 24 25 26 27 28 29 30 31 32 33\n",
      " 34 35 36 37 38 39 40 41 42 43 44 45 46 47 48 49 50]\n"
     ]
    }
   ],
   "source": [
    "#5. Array aus Integer von 10 bis 50 generieren\n",
    "FromToArr = np.arange(10, 51)\n",
    "\n",
    "print(FromToArr)"
   ]
  },
  {
   "cell_type": "code",
   "execution_count": 25,
   "metadata": {},
   "outputs": [
    {
     "name": "stdout",
     "output_type": "stream",
     "text": [
      "[10. 11. 12. 13. 14. 15. 16. 17. 18. 19. 20. 21. 22. 23. 24. 25. 26. 27.\n",
      " 28. 29. 30. 31. 32. 33. 34. 35. 36. 37. 38. 39. 40. 41. 42. 43. 44. 45.\n",
      " 46. 47. 48. 49. 50.]\n"
     ]
    }
   ],
   "source": [
    "#6. Array aus geraden Integer von 10 bis 50 generieren\n",
    "FromToArr2 =  np.linspace(10, 50, 41, endpoint=True)\n",
    "\n",
    "print(FromToArr2)"
   ]
  },
  {
   "cell_type": "code",
   "execution_count": 35,
   "metadata": {},
   "outputs": [
    {
     "name": "stdout",
     "output_type": "stream",
     "text": [
      "[[0 1 2]\n",
      " [3 4 5]\n",
      " [6 7 8]]\n"
     ]
    }
   ],
   "source": [
    "#7. 3x3 Matrix bestehend aus Zahlen/Werten von 0 bis 8 generieren\n",
    "matrix33 =  np.arange(0,9).reshape((3,3))\n",
    "print(matrix33)"
   ]
  },
  {
   "cell_type": "code",
   "execution_count": 39,
   "metadata": {},
   "outputs": [
    {
     "name": "stdout",
     "output_type": "stream",
     "text": [
      "[[1. 0. 0.]\n",
      " [0. 1. 0.]\n",
      " [0. 0. 1.]]\n"
     ]
    }
   ],
   "source": [
    "#8. 3x3 Identitätsmatrix generieren\n",
    "identity = np.identity(3)\n",
    "print(identity)"
   ]
  },
  {
   "cell_type": "code",
   "execution_count": 66,
   "metadata": {},
   "outputs": [
    {
     "name": "stdout",
     "output_type": "stream",
     "text": [
      "[0.1111905]\n"
     ]
    }
   ],
   "source": [
    "#9. Zufällige Zahl zwischen 0 und 1 generieren (mit Numpy)\n",
    "random= np.random.rand(1)\n",
    "print(random)"
   ]
  },
  {
   "cell_type": "code",
   "execution_count": 74,
   "metadata": {},
   "outputs": [
    {
     "name": "stdout",
     "output_type": "stream",
     "text": [
      "[ 0.81033311 -0.48019084 -0.82130176 -1.00090199 -0.8210379  -2.15827915\n",
      "  1.59879174  0.79303776  1.3329263  -0.23951914 -0.38131874  0.07238487\n",
      " -0.23073733 -0.05100972 -1.93377894  0.21764162  0.45854495  0.1509378\n",
      " -0.20437033  0.18545828 -0.06484072  1.46720634 -2.15800248 -1.94932449\n",
      "  0.26815804]\n"
     ]
    },
    {
     "data": {
      "text/plain": [
       "(array([4., 0., 0., 3., 2., 6., 5., 2., 0., 3.]),\n",
       " array([-2.15827915, -1.78257206, -1.40686497, -1.03115788, -0.65545079,\n",
       "        -0.2797437 ,  0.09596338,  0.47167047,  0.84737756,  1.22308465,\n",
       "         1.59879174]),\n",
       " <BarContainer object of 10 artists>)"
      ]
     },
     "execution_count": 74,
     "metadata": {},
     "output_type": "execute_result"
    },
    {
     "data": {
      "image/png": "[encoded data removed]",
      "text/plain": [
       "<Figure size 640x480 with 1 Axes>"
      ]
     },
     "metadata": {},
     "output_type": "display_data"
    }
   ],
   "source": [
    "#10. Array aus 25 zufälligen Zahlen mit einer Standard-Normal-Verteilung \n",
    "randomNormal = np.random.normal(loc=0.0, scale=1.0, size=25)\n",
    "print(randomNormal)\n",
    "\n",
    "#import matplotlib.pyplot as plt\n",
    "#plt.hist(randomNormal)"
   ]
  },
  {
   "attachments": {},
   "cell_type": "markdown",
   "metadata": {},
   "source": [
    "#11. Code herausfinden um folgende Matrix zu generieren\n",
    "<br><br>\n",
    "<img src=\"./Bild1.png\">\n"
   ]
  },
  {
   "cell_type": "code",
   "execution_count": 17,
   "metadata": {},
   "outputs": [
    {
     "name": "stdout",
     "output_type": "stream",
     "text": [
      "[[0.01 0.02 0.03 0.04 0.05 0.06 0.07 0.08 0.09 0.1 ]\n",
      " [0.11 0.12 0.13 0.14 0.15 0.16 0.17 0.18 0.19 0.2 ]\n",
      " [0.21 0.22 0.23 0.24 0.25 0.26 0.27 0.28 0.29 0.3 ]\n",
      " [0.31 0.32 0.33 0.34 0.35 0.36 0.37 0.38 0.39 0.4 ]\n",
      " [0.41 0.42 0.43 0.44 0.45 0.46 0.47 0.48 0.49 0.5 ]\n",
      " [0.51 0.52 0.53 0.54 0.55 0.56 0.57 0.58 0.59 0.6 ]\n",
      " [0.61 0.62 0.63 0.64 0.65 0.66 0.67 0.68 0.69 0.7 ]\n",
      " [0.71 0.72 0.73 0.74 0.75 0.76 0.77 0.78 0.79 0.8 ]\n",
      " [0.81 0.82 0.83 0.84 0.85 0.86 0.87 0.88 0.89 0.9 ]\n",
      " [0.91 0.92 0.93 0.94 0.95 0.96 0.97 0.98 0.99 1.  ]]\n"
     ]
    }
   ],
   "source": [
    "#11 Code herausfinden um folgende Matrix zu generieren\n",
    "matrix = np.arange(0.01, 1.01, 0.01).reshape(10, 10)\n",
    "print(matrix)"
   ]
  },
  {
   "cell_type": "code",
   "execution_count": 38,
   "metadata": {},
   "outputs": [
    {
     "name": "stdout",
     "output_type": "stream",
     "text": [
      "[0.         0.05263158 0.10526316 0.15789474 0.21052632 0.26315789\n",
      " 0.31578947 0.36842105 0.42105263 0.47368421 0.52631579 0.57894737\n",
      " 0.63157895 0.68421053 0.73684211 0.78947368 0.84210526 0.89473684\n",
      " 0.94736842 1.        ]\n"
     ]
    }
   ],
   "source": [
    "#12. Array aus 20 gleichmäßig verteilten Zahlen zwischen 0 und 1 generieren\n",
    "array = np.linspace(0, 1, 20)#,endpoint=False) #einschließlich 0 und 1.\n",
    "print(array)"
   ]
  },
  {
   "cell_type": "code",
   "execution_count": 62,
   "metadata": {},
   "outputs": [
    {
     "name": "stdout",
     "output_type": "stream",
     "text": [
      "[[ 1  2  3  4  5]\n",
      " [ 6  7  8  9 10]\n",
      " [11 12 13 14 15]\n",
      " [16 17 18 19 20]\n",
      " [21 22 23 24 25]]\n"
     ]
    }
   ],
   "source": [
    "#Folgende Matrix wird für die Aufgaben 13-20 verwendet\n",
    "\n",
    "mat = np.arange(1,26).reshape(5,5)\n",
    "print(mat)"
   ]
  },
  {
   "cell_type": "code",
   "execution_count": 63,
   "metadata": {},
   "outputs": [
    {
     "name": "stdout",
     "output_type": "stream",
     "text": [
      "[[12 13 14 15]\n",
      " [17 18 19 20]\n",
      " [22 23 24 25]]\n"
     ]
    }
   ],
   "source": [
    "#13. Code um folgende Werte zu bekommen aus der o. g. Matrix\n",
    "matrix_3x4 = mat[2:5, 1:5]\n",
    "print(matrix_3x4)"
   ]
  },
  {
   "attachments": {},
   "cell_type": "markdown",
   "metadata": {},
   "source": [
    "<img src=\"./Bild2.png\">"
   ]
  },
  {
   "cell_type": "code",
   "execution_count": 87,
   "metadata": {},
   "outputs": [
    {
     "name": "stdout",
     "output_type": "stream",
     "text": [
      "20\n",
      "20\n"
     ]
    }
   ],
   "source": [
    "#14. Code um die Zahl 20 zu bekommen (aus o. g. Matrix)\n",
    "twenty = mat[3,4] #mat[3:4, 4:5]\n",
    "print(twenty)\n",
    "\n",
    "#Alternative\n",
    "row,col = np.where(mat == 20)\n",
    "twenty2 = mat[row, col]\n",
    "print(twenty2[0])"
   ]
  },
  {
   "cell_type": "code",
   "execution_count": 94,
   "metadata": {},
   "outputs": [
    {
     "name": "stdout",
     "output_type": "stream",
     "text": [
      "[[ 2]\n",
      " [ 7]\n",
      " [12]]\n"
     ]
    }
   ],
   "source": [
    "#15. Code um folgende Ergebnisse zu bekommen (aus o. g. Matrix):\n",
    "matrix_3x1 = mat[0:3, 1:2]\n",
    "print(matrix_3x1)"
   ]
  },
  {
   "attachments": {},
   "cell_type": "markdown",
   "metadata": {},
   "source": [
    "<img src=\"./Bild3.png\">"
   ]
  },
  {
   "cell_type": "code",
   "execution_count": 116,
   "metadata": {},
   "outputs": [
    {
     "name": "stdout",
     "output_type": "stream",
     "text": [
      "[[21 22 23 24 25]]\n"
     ]
    }
   ],
   "source": [
    "#16. Code um folgende Ergebnisse zu bekommen aus der o. g. Matrix:\n",
    "arr = mat[4].reshape(1,5)\n",
    "print(arr)"
   ]
  },
  {
   "attachments": {},
   "cell_type": "markdown",
   "metadata": {},
   "source": [
    "<img src=\"./Bild4.png\">"
   ]
  },
  {
   "cell_type": "code",
   "execution_count": 121,
   "metadata": {},
   "outputs": [
    {
     "name": "stdout",
     "output_type": "stream",
     "text": [
      "[[16 17 18 19 20]\n",
      " [21 22 23 24 25]]\n"
     ]
    }
   ],
   "source": [
    "#17. Code um folgende Ergebnisse zu bekommen aus der o. g. Matrix:\n",
    "matrix_2x5 = mat[3:5]\n",
    "print(matrix_2x5)"
   ]
  },
  {
   "attachments": {},
   "cell_type": "markdown",
   "metadata": {},
   "source": [
    "<img src=\"./Bild5.png\">"
   ]
  },
  {
   "cell_type": "code",
   "execution_count": 128,
   "metadata": {},
   "outputs": [
    {
     "name": "stdout",
     "output_type": "stream",
     "text": [
      "325\n",
      "325\n"
     ]
    }
   ],
   "source": [
    "#18. Berechnen Sie die Summe aller Werte \n",
    "sum = mat.sum()\n",
    "print(sum)\n",
    "sum2 = np.sum(mat)\n",
    "print(sum2)"
   ]
  },
  {
   "cell_type": "code",
   "execution_count": 126,
   "metadata": {},
   "outputs": [
    {
     "name": "stdout",
     "output_type": "stream",
     "text": [
      "7.211102550927978\n",
      "7.211102550927978\n"
     ]
    }
   ],
   "source": [
    "#19. Berechnen Sie die Standardabweichung aller Werte\n",
    "std = mat.std()\n",
    "print(std)\n",
    "std2 = np.std(mat)\n",
    "print(std2)"
   ]
  },
  {
   "cell_type": "code",
   "execution_count": 134,
   "metadata": {},
   "outputs": [
    {
     "name": "stdout",
     "output_type": "stream",
     "text": [
      "[[ 1  2  3  4  5]\n",
      " [ 6  7  8  9 10]\n",
      " [11 12 13 14 15]\n",
      " [16 17 18 19 20]\n",
      " [21 22 23 24 25]]\n",
      "[55 60 65 70 75]\n"
     ]
    }
   ],
   "source": [
    "#20. Berechnen Sie die Summe der jeweiligen „Columns“ \n",
    "sum_columns = np.sum(mat, axis=0)\n",
    "print(mat)\n",
    "print(sum_columns)\n",
    "\n",
    "#Summe der jeweiligen \"Rows\"\n",
    "#sum_rows = np.sum(mat, axis=1)\n",
    "#print(sum_rows)"
   ]
  },
  {
   "cell_type": "code",
   "execution_count": null,
   "metadata": {},
   "outputs": [],
   "source": []
  }
 ],
 "metadata": {
  "kernelspec": {
   "display_name": "angewandteKI",
   "language": "python",
   "name": "python3"
  },
  "language_info": {
   "codemirror_mode": {
    "name": "ipython",
    "version": 3
   },
   "file_extension": ".py",
   "mimetype": "text/x-python",
   "name": "python",
   "nbconvert_exporter": "python",
   "pygments_lexer": "ipython3",
   "version": "3.8.8"
  },
  "orig_nbformat": 4,
  "vscode": {
   "interpreter": {
    "hash": "e406d3fd6d7844caaae0ef3d85de2976a6b000d5de8a68e36c3938cd40d8e139"
   }
  }
 },
 "nbformat": 4,
 "nbformat_minor": 2
}
