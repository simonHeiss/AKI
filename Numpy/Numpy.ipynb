{
 "cells": [
  {
   "attachments": {},
   "cell_type": "markdown",
   "metadata": {},
   "source": [
    "Aufgaben:\n",
    "1. Numpy Importieren\n",
    "2. Array aus 10 Nullen generieren\n",
    "3. Array aus 10 Einsen generieren\n",
    "4. Array aus 10 Fünfer generieren\n",
    "5. Array aus Integer von 10 bis 50 generieren\n",
    "6. Array aus geraden Integer von 10 bis 50 generieren\n",
    "7. 3x3 Matrix bestehend aus Zahlen/Werten von 0 bis 8 generieren\n",
    "8. 3x3 Identitätsmatrix generieren\n",
    "9. Zufällige Zahl zwischen 0 und 1 generieren (mit Numpy)\n",
    "10. Array aus 25 zufälligen Zahlen mit einer Standard-Normal-Verteilung \n"
   ]
  },
  {
   "cell_type": "code",
   "execution_count": 1,
   "metadata": {},
   "outputs": [],
   "source": [
    "#1. Numpy Importieren\n",
    "import numpy as np #1.  "
   ]
  },
  {
   "cell_type": "code",
   "execution_count": 2,
   "metadata": {},
   "outputs": [
    {
     "data": {
      "text/plain": [
       "array([0., 0., 0., 0., 0., 0., 0., 0., 0., 0.])"
      ]
     },
     "execution_count": 2,
     "metadata": {},
     "output_type": "execute_result"
    }
   ],
   "source": [
    "#2. Array aus 10 Nullen generieren\n",
    "zeroArr = np.zeros(10)\n",
    "zeroArr"
   ]
  },
  {
   "cell_type": "code",
   "execution_count": 3,
   "metadata": {},
   "outputs": [
    {
     "data": {
      "text/plain": [
       "array([1., 1., 1., 1., 1., 1., 1., 1., 1., 1.])"
      ]
     },
     "execution_count": 3,
     "metadata": {},
     "output_type": "execute_result"
    }
   ],
   "source": [
    "#3. Array aus 10 Einsen generieren\n",
    "onesArr = np.ones(10)\n",
    "onesArr"
   ]
  },
  {
   "cell_type": "code",
   "execution_count": 16,
   "metadata": {},
   "outputs": [
    {
     "name": "stdout",
     "output_type": "stream",
     "text": [
      "[10 10 10 10 10]\n",
      "[5 5 5 5 5 5 5 5 5 5]\n"
     ]
    },
    {
     "name": "stderr",
     "output_type": "stream",
     "text": [
      "C:\\Users\\heiss\\AppData\\Local\\Temp\\ipykernel_40612\\2517877521.py:10: DeprecationWarning: `np.int` is a deprecated alias for the builtin `int`. To silence this warning, use `int` by itself. Doing this will not modify any behavior and is safe. When replacing `np.int`, you may wish to use e.g. `np.int64` or `np.int32` to specify the precision. If you wish to review your current use, check the release note link for additional information.\n",
      "Deprecated in NumPy 1.20; for more details and guidance: https://numpy.org/devdocs/release/1.20.0-notes.html#deprecations\n",
      "  dtype=np.int\n"
     ]
    }
   ],
   "source": [
    "#4. Array aus 10 Fünfer generieren\n",
    "a = np.arange(5, dtype=int)\n",
    "fivesArr = np.full_like(a, 10)\n",
    "print(fivesArr)\n",
    "\n",
    "#Alternativ \n",
    "fives2Arr = np.full(\n",
    "  shape=10,\n",
    "  fill_value=5,\n",
    "  dtype=np.int\n",
    ")\n",
    "print(fives2Arr)"
   ]
  },
  {
   "cell_type": "code",
   "execution_count": 19,
   "metadata": {},
   "outputs": [
    {
     "name": "stdout",
     "output_type": "stream",
     "text": [
      "[10 11 12 13 14 15 16 17 18 19 20 21 22 23 24 25 26 27 28 29 30 31 32 33\n",
      " 34 35 36 37 38 39 40 41 42 43 44 45 46 47 48 49 50]\n"
     ]
    }
   ],
   "source": [
    "#5. Array aus Integer von 10 bis 50 generieren\n",
    "FromToArr = np.arange(10, 51)\n",
    "\n",
    "print(FromToArr)"
   ]
  },
  {
   "cell_type": "code",
   "execution_count": 25,
   "metadata": {},
   "outputs": [
    {
     "name": "stdout",
     "output_type": "stream",
     "text": [
      "[10. 11. 12. 13. 14. 15. 16. 17. 18. 19. 20. 21. 22. 23. 24. 25. 26. 27.\n",
      " 28. 29. 30. 31. 32. 33. 34. 35. 36. 37. 38. 39. 40. 41. 42. 43. 44. 45.\n",
      " 46. 47. 48. 49. 50.]\n"
     ]
    }
   ],
   "source": [
    "#6. Array aus geraden Integer von 10 bis 50 generieren\n",
    "FromToArr2 =  np.linspace(10, 50, 41, endpoint=True)\n",
    "\n",
    "print(FromToArr2)"
   ]
  },
  {
   "cell_type": "code",
   "execution_count": 35,
   "metadata": {},
   "outputs": [
    {
     "name": "stdout",
     "output_type": "stream",
     "text": [
      "[[0 1 2]\n",
      " [3 4 5]\n",
      " [6 7 8]]\n"
     ]
    }
   ],
   "source": [
    "#7. 3x3 Matrix bestehend aus Zahlen/Werten von 0 bis 8 generieren\n",
    "matrix33 =  np.arange(0,9).reshape((3,3))\n",
    "print(matrix33)"
   ]
  },
  {
   "cell_type": "code",
   "execution_count": 39,
   "metadata": {},
   "outputs": [
    {
     "name": "stdout",
     "output_type": "stream",
     "text": [
      "[[1. 0. 0.]\n",
      " [0. 1. 0.]\n",
      " [0. 0. 1.]]\n"
     ]
    }
   ],
   "source": [
    "#8. 3x3 Identitätsmatrix generieren\n",
    "identity = np.identity(3)\n",
    "print(identity)"
   ]
  },
  {
   "cell_type": "code",
   "execution_count": 66,
   "metadata": {},
   "outputs": [
    {
     "name": "stdout",
     "output_type": "stream",
     "text": [
      "[0.1111905]\n"
     ]
    }
   ],
   "source": [
    "#9. Zufällige Zahl zwischen 0 und 1 generieren (mit Numpy)\n",
    "random= np.random.rand(1)\n",
    "print(random)"
   ]
  },
  {
   "cell_type": "code",
   "execution_count": 74,
   "metadata": {},
   "outputs": [
    {
     "name": "stdout",
     "output_type": "stream",
     "text": [
      "[ 0.81033311 -0.48019084 -0.82130176 -1.00090199 -0.8210379  -2.15827915\n",
      "  1.59879174  0.79303776  1.3329263  -0.23951914 -0.38131874  0.07238487\n",
      " -0.23073733 -0.05100972 -1.93377894  0.21764162  0.45854495  0.1509378\n",
      " -0.20437033  0.18545828 -0.06484072  1.46720634 -2.15800248 -1.94932449\n",
      "  0.26815804]\n"
     ]
    },
    {
     "data": {
      "text/plain": [
       "(array([4., 0., 0., 3., 2., 6., 5., 2., 0., 3.]),\n",
       " array([-2.15827915, -1.78257206, -1.40686497, -1.03115788, -0.65545079,\n",
       "        -0.2797437 ,  0.09596338,  0.47167047,  0.84737756,  1.22308465,\n",
       "         1.59879174]),\n",
       " <BarContainer object of 10 artists>)"
      ]
     },
     "execution_count": 74,
     "metadata": {},
     "output_type": "execute_result"
    },
    {
     "data": {
      "image/png": "[encoded data removed]",
      "text/plain": [
       "<Figure size 640x480 with 1 Axes>"
      ]
     },
     "metadata": {},
     "output_type": "display_data"
    }
   ],
   "source": [
    "#10. Array aus 25 zufälligen Zahlen mit einer Standard-Normal-Verteilung \n",
    "randomNormal = np.random.normal(loc=0.0, scale=1.0, size=25)\n",
    "print(randomNormal)\n",
    "\n",
    "#import matplotlib.pyplot as plt\n",
    "#plt.hist(randomNormal)"
   ]
  }
 ],
 "metadata": {
  "kernelspec": {
   "display_name": "angewandteKI",
   "language": "python",
   "name": "python3"
  },
  "language_info": {
   "codemirror_mode": {
    "name": "ipython",
    "version": 3
   },
   "file_extension": ".py",
   "mimetype": "text/x-python",
   "name": "python",
   "nbconvert_exporter": "python",
   "pygments_lexer": "ipython3",
   "version": "3.10.11"
  },
  "orig_nbformat": 4,
  "vscode": {
   "interpreter": {
    "hash": "e406d3fd6d7844caaae0ef3d85de2976a6b000d5de8a68e36c3938cd40d8e139"
   }
  }
 },
 "nbformat": 4,
 "nbformat_minor": 2
}
