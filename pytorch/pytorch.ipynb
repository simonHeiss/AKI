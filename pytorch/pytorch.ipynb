{
 "cells": [
  {
   "attachments": {},
   "cell_type": "markdown",
   "metadata": {},
   "source": [
    "<h2>Angewandte Künstliche Intelligenz (<b>Pytorch</b>)</h2>\n",
    "\n",
    "<table>\n",
    "    <tr>\n",
    "        <th>Matrikelnummer</th>\n",
    "        <th>Name</th>\n",
    "    </tr>\n",
    "    <tr>\n",
    "        <td>762476</td>\n",
    "        <td>Simon Heiß</td>\n",
    "    </tr>\n",
    "</table>\n",
    "\n",
    "<h4>Aufgaben:</h4>"
   ]
  },
  {
   "cell_type": "code",
   "execution_count": 1,
   "metadata": {},
   "outputs": [
    {
     "name": "stderr",
     "output_type": "stream",
     "text": [
      "c:\\Users\\Simon Heiß\\AppData\\Local\\Programs\\Python\\Python38\\lib\\site-packages\\numpy\\_distributor_init.py:30: UserWarning: loaded more than 1 DLL from .libs:\n",
      "c:\\Users\\Simon Heiß\\AppData\\Local\\Programs\\Python\\Python38\\lib\\site-packages\\numpy\\.libs\\libopenblas.EL2C6PLE4ZYW3ECEVIV3OXXGRN2NRFM2.gfortran-win_amd64.dll\n",
      "c:\\Users\\Simon Heiß\\AppData\\Local\\Programs\\Python\\Python38\\lib\\site-packages\\numpy\\.libs\\libopenblas.FB5AE2TYXYH2IJRDKGDGQ3XBKLKTF43H.gfortran-win_amd64.dll\n",
      "  warnings.warn(\"loaded more than 1 DLL from .libs:\"\n"
     ]
    },
    {
     "data": {
      "text/plain": [
       "'2.0.1+cpu'"
      ]
     },
     "execution_count": 1,
     "metadata": {},
     "output_type": "execute_result"
    }
   ],
   "source": [
    "#1. Pytorch und Numpy importieren.\n",
    "import torch \n",
    "import numpy as np\n",
    "\n",
    "torch.__version__"
   ]
  },
  {
   "cell_type": "code",
   "execution_count": 151,
   "metadata": {},
   "outputs": [
    {
     "data": {
      "text/plain": [
       "<torch._C.Generator at 0x174739e36b0>"
      ]
     },
     "execution_count": 151,
     "metadata": {},
     "output_type": "execute_result"
    }
   ],
   "source": [
    "# 2. Setzen Sie den zufälligen Seed für NumPy und PyTorch beide auf \"42\".\n",
    "np.random.seed(42)\n",
    "torch.manual_seed(42)"
   ]
  },
  {
   "cell_type": "code",
   "execution_count": 152,
   "metadata": {},
   "outputs": [
    {
     "name": "stdout",
     "output_type": "stream",
     "text": [
      "[3 4 2 4 4 1]\n"
     ]
    }
   ],
   "source": [
    "# 3. Erstellen Sie ein NumPy-Array namens \"arr\", das 6 zufällige Ganzzahlen zwischen 0 (einschließlich) und 5 (exklusiv) enthält.\n",
    "\n",
    "arr = np.random.randint(0, 5, size=6)\n",
    "\n",
    "print(arr)\n"
   ]
  },
  {
   "cell_type": "code",
   "execution_count": 153,
   "metadata": {},
   "outputs": [
    {
     "name": "stdout",
     "output_type": "stream",
     "text": [
      "tensor([3, 4, 2, 4, 4, 1], dtype=torch.int32)\n",
      "tensor([3, 4, 2, 4, 4, 1], dtype=torch.int32)\n"
     ]
    }
   ],
   "source": [
    "# 4. Erstellen Sie einen Tensor \"x\" aus dem obigen Array (Aufgabe 3).\n",
    "x = torch.tensor(arr) \n",
    "x2 = torch.from_numpy(arr) \n",
    "print(x)\n",
    "print(x2)"
   ]
  },
  {
   "cell_type": "code",
   "execution_count": 154,
   "metadata": {},
   "outputs": [
    {
     "name": "stdout",
     "output_type": "stream",
     "text": [
      "tensor([3, 4, 2, 4, 4, 1]) torch.int64\n",
      "tensor([3, 4, 2, 4, 4, 1]) torch.int64\n"
     ]
    }
   ],
   "source": [
    "# 5. Ändern Sie den dtype von x von 'int32' in 'int64‘.\n",
    "x = x.to(torch.int64)\n",
    "print(x, x.dtype)\n",
    "x2 = x.type(torch.int64)\n",
    "print(x2, x2.dtype)"
   ]
  },
  {
   "cell_type": "code",
   "execution_count": 155,
   "metadata": {},
   "outputs": [
    {
     "name": "stdout",
     "output_type": "stream",
     "text": [
      "x = tensor([[3, 4],\n",
      "        [2, 4],\n",
      "        [4, 1]]) \n",
      " x2 =  tensor([[3, 4],\n",
      "        [2, 4],\n",
      "        [4, 1]])\n"
     ]
    }
   ],
   "source": [
    "# 6. Reshape/Forme x in einen 3x2-Tensor um (Aufgabe 4)\n",
    "x = x.reshape(3, 2)\n",
    "x2 = x.view(3, 2)\n",
    "print(\"x =\", x, \"\\n x2 = \", x2)"
   ]
  },
  {
   "cell_type": "code",
   "execution_count": 156,
   "metadata": {},
   "outputs": [
    {
     "name": "stdout",
     "output_type": "stream",
     "text": [
      "tensor([4, 4, 1])\n"
     ]
    }
   ],
   "source": [
    "# 7. Geben Sie die rechte Spalte des Tensors x zurück\n",
    "right_column = x[:, 1]\n",
    "print(right_column)"
   ]
  },
  {
   "cell_type": "code",
   "execution_count": 157,
   "metadata": {},
   "outputs": [
    {
     "name": "stdout",
     "output_type": "stream",
     "text": [
      "tensor([[ 9, 16],\n",
      "        [ 4, 16],\n",
      "        [16,  1]])\n"
     ]
    }
   ],
   "source": [
    "# 8. Geben Sie einen Tensor von Quadratwerten von x zurück, ohne x zu ändern\n",
    "\t\n",
    "# Alternative für Aufgabe 8 print(torch.pow(x, 2))\n",
    "squared_x = x.square()\n",
    "print(squared_x)"
   ]
  },
  {
   "cell_type": "code",
   "execution_count": 158,
   "metadata": {},
   "outputs": [
    {
     "name": "stdout",
     "output_type": "stream",
     "text": [
      "tensor([[2, 2, 1],\n",
      "        [4, 1, 0]])\n"
     ]
    }
   ],
   "source": [
    "# 9. Erzeugen Sie einen Tensor \"y\" mit der gleichen Anzahl von Elementen wie x, der mit x  matrixmultipliziert werden kann. \n",
    "# Hinweis! Welche Voraussetzung muss erfüllt sein für eine Matrix-Multiplikation?\n",
    "\n",
    "\n",
    "y = torch.randint(0, 5, (2, 3) , dtype= torch.int64)\n",
    "print(y)\n",
    "\n"
   ]
  },
  {
   "cell_type": "code",
   "execution_count": 159,
   "metadata": {},
   "outputs": [
    {
     "name": "stdout",
     "output_type": "stream",
     "text": [
      "tensor([[22, 10,  3],\n",
      "        [20,  8,  2],\n",
      "        [12,  9,  4]])\n"
     ]
    }
   ],
   "source": [
    "# 10. Finden Sie das Matrixprodukt von x und y.\n",
    "# Alternative für Aufgabe 10 torch.mm(x,y)\n",
    "result = torch.matmul(x, y)#like this the result is compareable to the squared tensor\n",
    "\n",
    "print(result)"
   ]
  }
 ],
 "metadata": {
  "kernelspec": {
   "display_name": "base",
   "language": "python",
   "name": "python3"
  },
  "language_info": {
   "codemirror_mode": {
    "name": "ipython",
    "version": 3
   },
   "file_extension": ".py",
   "mimetype": "text/x-python",
   "name": "python",
   "nbconvert_exporter": "python",
   "pygments_lexer": "ipython3",
   "version": "3.8.9"
  },
  "orig_nbformat": 4
 },
 "nbformat": 4,
 "nbformat_minor": 2
}
